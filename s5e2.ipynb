{
 "cells": [
  {
   "cell_type": "code",
   "execution_count": null,
   "id": "4eea4c9e",
   "metadata": {},
   "outputs": [
    {
     "name": "stdout",
     "output_type": "stream",
     "text": [
      "Setup Complete\n"
     ]
    }
   ],
   "source": [
    "# Setup\n",
    "import numpy as np\n",
    "import pandas as pd\n",
    "import seaborn as sns\n",
    "import matplotlib.pyplot as plt\n",
    "# Import Data\n",
    "train = pd.read_csv('./playground-series-s5e2/train.csv')\n",
    "train_extra = pd.read_csv('./playground-series-s5e2/training_extra.csv')\n",
    "train = pd.concat([train, train_extra]).drop(columns=['id'])\n",
    "test = pd.read_csv('./playground-series-s5e2/test.csv')\n",
    "# Done\n",
    "print('Setup Complete')"
   ]
  },
  {
   "cell_type": "code",
   "execution_count": 3,
   "id": "1ef8f201",
   "metadata": {},
   "outputs": [],
   "source": [
    "# Split Data for Training and Validation\n",
    "from sklearn.model_selection import train_test_split\n",
    "xtrain, xvalid, ytrain, yvalid = train_test_split(train.drop(columns=['Price']), train['Price'], train_size=0.8)"
   ]
  },
  {
   "cell_type": "code",
   "execution_count": null,
   "id": "9c750952",
   "metadata": {},
   "outputs": [],
   "source": [
    "# Start with a baseline XGBRegressor model\n",
    "# Create a pipeline to simplify the process\n",
    "from sklearn.compose import ColumnTransformer\n",
    "from sklearn.pipeline import Pipeline\n",
    "from sklearn.impute import SimpleImputer\n",
    "from sklearn.preprocessing import OneHotEncoder\n",
    "from xgboost import XGBRegressor \n",
    "\n",
    "# Identify categorical and numerical columns\n",
    "cat_cols = ['Brand' , 'Material', 'Size', 'Compartments' , 'Laptop Compartment', 'Waterproof', 'Style', 'Color']\n",
    "num_cols = ['Weight Capacity (kg)']\n",
    "\n",
    "# Specify the transformers for both types of data\n",
    "num_trans = SimpleImputer(strategy='median')\n",
    "cat_trans = Pipeline(steps=[\n",
    "    ('imputer', SimpleImputer(strategy='constant', fill_value='Unknown')),\n",
    "    ('onehot', OneHotEncoder(handle_unknown='ignore'))\n",
    "])\n",
    "\n",
    "# Create the final column transformer\n",
    "col_trans = ColumnTransformer(transformers=[\n",
    "    ('num', num_trans, num_cols),\n",
    "    ('cat', cat_trans, cat_cols)\n",
    "])\n",
    "\n",
    "# Make the model and finalize the pipeline\n",
    "model = XGBRegressor()\n",
    "pipeline = Pipeline(steps=[\n",
    "    ('preprocessor', col_trans), \n",
    "    ('model', model)\n",
    "])"
   ]
  },
  {
   "cell_type": "code",
   "execution_count": null,
   "id": "810a282b",
   "metadata": {},
   "outputs": [
    {
     "name": "stdout",
     "output_type": "stream",
     "text": [
      "N: 100 MAE: 33.59494715893701\n",
      "N: 110 MAE: 33.59467451809225\n",
      "N: 120 MAE: 33.59461376004741\n",
      "N: 130 MAE: 33.59526976955723\n",
      "N: 140 MAE: 33.59527024145471\n"
     ]
    }
   ],
   "source": [
    "# Choosing XGBRegressor as a good baseline model\n",
    "from sklearn.metrics import mean_absolute_error\n",
    "\n",
    "# Train the model\n",
    "pipeline.fit(xtrain, ytrain)\n",
    "\n",
    "# Get predictions for validation and evaluate\n",
    "preds = pipeline.predict(xvalid)\n",
    "score = mean_absolute_error(yvalid, preds)\n",
    "print('MAE:', score)"
   ]
  },
  {
   "cell_type": "code",
   "execution_count": null,
   "id": "acc27e1f",
   "metadata": {},
   "outputs": [
    {
     "name": "stdout",
     "output_type": "stream",
     "text": [
      "[81.47658  83.099495 83.242744 ... 81.47061  81.85084  81.57258 ]\n"
     ]
    }
   ],
   "source": [
    "# Get predictions for test and save for submission\n",
    "test['Price'] = pipeline.predict(test)\n",
    "test[['id', 'Price']].to_csv('./playground-series-s5e2/submission.csv', index=False)"
   ]
  }
 ],
 "metadata": {
  "kernelspec": {
   "display_name": ".env",
   "language": "python",
   "name": "python3"
  },
  "language_info": {
   "codemirror_mode": {
    "name": "ipython",
    "version": 3
   },
   "file_extension": ".py",
   "mimetype": "text/x-python",
   "name": "python",
   "nbconvert_exporter": "python",
   "pygments_lexer": "ipython3",
   "version": "3.13.7"
  }
 },
 "nbformat": 4,
 "nbformat_minor": 5
}
